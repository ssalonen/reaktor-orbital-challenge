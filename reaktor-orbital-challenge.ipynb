{
 "cells": [
  {
   "cell_type": "code",
   "execution_count": null,
   "metadata": {
    "collapsed": true
   },
   "outputs": [],
   "source": [
    "%matplotlib notebook"
   ]
  },
  {
   "cell_type": "code",
   "execution_count": null,
   "metadata": {
    "collapsed": true
   },
   "outputs": [],
   "source": [
    "from itertools import product, combinations\n",
    "from io import StringIO\n",
    "\n",
    "import numpy as np\n",
    "from numpy.linalg import norm\n",
    "import pandas as pd\n",
    "\n",
    "from mpl_toolkits.mplot3d import Axes3D\n",
    "import matplotlib.pyplot as plt\n",
    "from matplotlib.patches import FancyArrowPatch\n",
    "from mpl_toolkits.mplot3d import proj3d\n",
    "\n",
    "from networkx import Graph\n",
    "from networkx.algorithms import astar_path"
   ]
  },
  {
   "cell_type": "code",
   "execution_count": null,
   "metadata": {
    "collapsed": true
   },
   "outputs": [],
   "source": [
    "# Radius of earth\n",
    "RADIUS = 6371.0 # km"
   ]
  },
  {
   "cell_type": "markdown",
   "metadata": {},
   "source": [
    "# Plotting utilities"
   ]
  },
  {
   "cell_type": "code",
   "execution_count": null,
   "metadata": {
    "collapsed": true
   },
   "outputs": [],
   "source": [
    "class Arrow3D(FancyArrowPatch):\n",
    "    # Adapted from https://stackoverflow.com/questions/11140163/python-matplotlib-plotting-a-3d-cube-a-sphere-and-a-vector\n",
    "    \n",
    "    def __init__(self, xs, ys, zs, *args, **kwargs):\n",
    "        FancyArrowPatch.__init__(self, (0,0), (0,0), *args, **kwargs)\n",
    "        self._verts3d = xs, ys, zs\n",
    "\n",
    "    def draw(self, renderer):\n",
    "        xs3d, ys3d, zs3d = self._verts3d\n",
    "        xs, ys, zs = proj3d.proj_transform(xs3d, ys3d, zs3d, renderer.M)\n",
    "        self.set_positions((xs[0],ys[0]),(xs[1],ys[1]))\n",
    "        FancyArrowPatch.draw(self, renderer)\n",
    "\n",
    "def plot_3d_point(x, y, z, color='b', s=10, ax=None):\n",
    "    ax = ax or plt.gca()\n",
    "    ax.scatter([x],[y],[z], facecolor=color, color=color, s=s)\n",
    "        \n",
    "def create_sphere_fig():\n",
    "    # Adapted from https://stackoverflow.com/questions/11140163/python-matplotlib-plotting-a-3d-cube-a-sphere-and-a-vector\n",
    "    fig = plt.figure()\n",
    "    ax = fig.gca(projection='3d')\n",
    "    ax.set_aspect(\"equal\")\n",
    "    \n",
    "\n",
    "    u, v = np.mgrid[0:2*np.pi:50j, 0:np.pi:40j]\n",
    "    x=np.cos(u)*np.sin(v)*RADIUS\n",
    "    y=np.sin(u)*np.sin(v)*RADIUS\n",
    "    z=np.cos(v)*RADIUS\n",
    "    ax.plot_wireframe(x, y, z, color=\"k\", alpha=.1)\n",
    "\n",
    "    for sat_name, lat, lon, alt in satellites.itertuples():    \n",
    "        plot_3d_point(*xyz(lat, lon, alt), color='b', s=10, ax=ax)\n",
    "    \n",
    "    return fig, ax"
   ]
  },
  {
   "cell_type": "markdown",
   "metadata": {},
   "source": [
    "# Coordinate transformations and intersection test"
   ]
  },
  {
   "cell_type": "code",
   "execution_count": null,
   "metadata": {
    "collapsed": false
   },
   "outputs": [],
   "source": [
    "def xyz(lat, lon, alt, radius=RADIUS):\n",
    "    \"\"\"\n",
    "    Calculate XYZ coordinates corresponding to latitude, longitude and altitude coordinates\n",
    "    \n",
    "    :param lat: latitude in degrees\n",
    "    :type lat: pd.Series[float]|np.array[float]\n",
    "    :param lon: longitude in degrees\n",
    "    :type lon:  pd.Series[float]|np.array[float]\n",
    "    :param alt: altitude in kilometers\n",
    "    :type alt:  pd.Series[float]|np.array[float]\n",
    "    :param radius: radius of the sphere to use in calculations, in kilometers\n",
    "    :type radius: float\n",
    "    :return: 3-tuple of x, y, and z coordinates\n",
    "    :rtype: (np.array[float], np.array[float], np.array[float])\n",
    "    \n",
    "    http://www.movable-type.co.uk/scripts/latlong-vectors.html\n",
    "    https://en.wikipedia.org/wiki/Geographic_coordinate_conversion#From_geodetic_to_ECEF_coordinates\n",
    "    \"\"\"\n",
    "    lat = np.asarray(lat)\n",
    "    lon = np.asarray(lon)\n",
    "    alt = np.asarray(alt)\n",
    "    lat_rad = np.deg2rad(lat)\n",
    "    lon_rad = np.deg2rad(lon)\n",
    "    \n",
    "    # XXX: hack to handle numerical inaccuracies with location on the earth\n",
    "    alt[alt == 0] = 1e-6\n",
    "    \n",
    "\n",
    "    # right-handed vector: x -> 0°E,0°N; y -> 90°E,0°N, z -> 90°N\n",
    "    x = np.cos(lat_rad) * np.cos(lon_rad) * (radius + alt)\n",
    "    y = np.cos(lat_rad) * np.sin(lon_rad) * (radius + alt)\n",
    "    z = np.sin(lat_rad) * (radius + alt)\n",
    "        \n",
    "    \n",
    "    return x, y, z"
   ]
  },
  {
   "cell_type": "code",
   "execution_count": null,
   "metadata": {
    "collapsed": true
   },
   "outputs": [],
   "source": [
    "def line(xyz1, xyz2):\n",
    "    \"\"\"\n",
    "    \n",
    "    :return : 3-tuple of line origin (in XYZ), distance, and unit vector (in XYZ)\n",
    "    :rtype: (np.array[float], float, np.array[float])\n",
    "    \"\"\"\n",
    "    line_vec = np.asarray(xyz2) - np.asarray(xyz1)\n",
    "    dist = norm(line_vec)\n",
    "    origin = np.asarray(xyz1)\n",
    "    return origin, dist, line_vec / dist"
   ]
  },
  {
   "cell_type": "code",
   "execution_count": null,
   "metadata": {
    "collapsed": true
   },
   "outputs": [],
   "source": [
    "\n",
    "def does_not_intersect_sphere(line):\n",
    "    \"\"\"\n",
    "    \n",
    "    See https://en.wikipedia.org/wiki/Line%E2%80%93sphere_intersection\n",
    "    \"\"\"\n",
    "    # A small treshold is added to all comparisons due to numerical inaccuracies\n",
    "    # (we want to make the tests cases below pass)\n",
    "    EPSILON = 1e-8\n",
    "    \n",
    "    origin, dist, direc = line\n",
    "    discriminant = np.dot(direc, origin)**2 - norm(origin)**2 + RADIUS**2\n",
    "    if discriminant <= EPSILON:\n",
    "        return True\n",
    "    else:\n",
    "        # line intersects with sphere. Let's see if the line *segment* intersects\n",
    "        d1 = - np.dot(direc, origin) + np.sqrt(discriminant)\n",
    "        d2 = - np.dot(direc, origin) - np.sqrt(discriminant)\n",
    "        # If intersects \"before\" line origin pt1 (d < 0), or \"after\" pt2 (dX > dist)\n",
    "        # then the segment does not intersect\n",
    "        return (d1 < EPSILON or d1 > dist + EPSILON) and (d2 < EPSILON or d2 > dist + EPSILON)"
   ]
  },
  {
   "cell_type": "code",
   "execution_count": null,
   "metadata": {
    "collapsed": true
   },
   "outputs": [],
   "source": [
    "def line_of_sight_points_xyz(pt1, pt2):\n",
    "    \"\"\"\n",
    "    :param pt1: point entry, should have at least x, y, z keys\n",
    "    :type pt1: pd.Series\n",
    "    :param pt2: point entry, should have at least x, y, z keys\n",
    "    :type pt2: pd.Series\n",
    "    \"\"\"\n",
    "    return does_not_intersect_sphere(line(pt1[['x', 'y', 'z']], pt2[['x', 'y', 'z']]))\n",
    "\n"
   ]
  },
  {
   "cell_type": "markdown",
   "metadata": {},
   "source": [
    "## Small set of tests for the intersecion"
   ]
  },
  {
   "cell_type": "code",
   "execution_count": null,
   "metadata": {
    "collapsed": false
   },
   "outputs": [],
   "source": [
    "def test_line_of_sight(lat_lon_alt1, lat_lon_alt2):\n",
    "    XYZ = list('xyz')\n",
    "    xyz1 = pd.Series(dict(zip(XYZ, xyz(*lat_lon_alt1))))\n",
    "    xyz2 = pd.Series(dict(zip(XYZ, xyz(*lat_lon_alt2))))\n",
    "    no_intersect = line_of_sight_points_xyz(xyz1, xyz2)\n",
    "    \n",
    "    print('(lat, lon, altitude) line ({}, {}, {}) -> ({}, {}, {}) intersects sphere'\n",
    "          ': {}'.format(lat_lon_alt1[0], lat_lon_alt1[1], lat_lon_alt1[2],\n",
    "                                       lat_lon_alt2[0], lat_lon_alt2[1], lat_lon_alt2[2],\n",
    "                                       not no_intersect))\n",
    "\n"
   ]
  },
  {
   "cell_type": "code",
   "execution_count": null,
   "metadata": {
    "collapsed": false
   },
   "outputs": [],
   "source": [
    "# from ground to up in the air -> no intersection\n",
    "test_line_of_sight((60., 30., 0),\n",
    "                     (60., 30., 3.))"
   ]
  },
  {
   "cell_type": "code",
   "execution_count": null,
   "metadata": {
    "collapsed": false
   },
   "outputs": [],
   "source": [
    "# below ground -> intersects for sure\n",
    "test_line_of_sight((60., 30., -1),\n",
    "                     (60., 30., 3.))"
   ]
  },
  {
   "cell_type": "code",
   "execution_count": null,
   "metadata": {
    "collapsed": false
   },
   "outputs": [],
   "source": [
    "# would definately cross the globe\n",
    "test_line_of_sight((60., 30., 1e-6),\n",
    "                     (60., 30.+180, 1e-6))"
   ]
  },
  {
   "cell_type": "code",
   "execution_count": null,
   "metadata": {
    "collapsed": false
   },
   "outputs": [],
   "source": [
    "# does not intersect earth since so high up\n",
    "test_line_of_sight((60., 30., 1e6),\n",
    "                    (60., 30.+180, 1e6))"
   ]
  },
  {
   "cell_type": "markdown",
   "metadata": {
    "collapsed": false
   },
   "source": [
    "# Read the data"
   ]
  },
  {
   "cell_type": "code",
   "execution_count": null,
   "metadata": {
    "collapsed": true
   },
   "outputs": [],
   "source": [
    "# Whether to query new data from the web page\n",
    "new_data = True\n",
    "\n",
    "if new_data:\n",
    "    from urllib.request import urlopen\n",
    "    data = urlopen('https://space-fast-track.herokuapp.com/generate').read().decode('UTF-8')\n",
    "else:\n",
    "    data=\"\"\"#SEED: 0.8608823427930474\n",
    "    SAT0,48.55590443501168,80.77271843407055,503.03838533441433\n",
    "    SAT1,81.46968750753402,-118.15066614136937,514.859535544523\n",
    "    SAT2,39.41519812489429,-166.91798588391052,536.7948711259781\n",
    "    SAT3,-10.316514874774285,-0.735167994420749,678.8333610599886\n",
    "    SAT4,72.78811230743494,13.643149118682487,600.8985009105567\n",
    "    SAT5,-19.45307840448787,-113.79783866697372,579.1317111144131\n",
    "    SAT6,6.593266248935507,9.722372909676409,327.72893427593374\n",
    "    SAT7,18.699320752212074,43.24810926633921,382.1820581913167\n",
    "    SAT8,45.13480933952849,-2.429779400654155,587.9772254517646\n",
    "    SAT9,60.922959620722565,-39.662701119682595,339.8368255757637\n",
    "    SAT10,71.71755662538712,107.25761496896882,306.4097667973787\n",
    "    SAT11,-4.779689101486952,20.88382048401178,592.3963591961722\n",
    "    SAT12,-50.23735668231753,-0.45324923283567387,519.6289888591211\n",
    "    SAT13,-23.787818091061112,55.65402439658328,417.4693831835262\n",
    "    SAT14,-74.04820239129442,37.4903549245806,428.8667958169408\n",
    "    SAT15,56.11367230717556,174.68300686688474,598.0044791115222\n",
    "    SAT16,-14.280300219541758,-78.73127266298181,401.5181403106839\n",
    "    SAT17,47.398039656038094,118.76418844465024,546.4921220887857\n",
    "    SAT18,-36.913762033627684,-134.13726667848564,540.2407048766871\n",
    "    SAT19,-6.258931830623666,48.44603028735406,661.5286630757039\n",
    "    ROUTE,35.85339258313151,75.73690402762071,-63.331684028952985,46.3750890049742\n",
    "    \"\"\""
   ]
  },
  {
   "cell_type": "code",
   "execution_count": null,
   "metadata": {
    "collapsed": false
   },
   "outputs": [],
   "source": [
    "print(data.split('\\n', 1)[0])"
   ]
  },
  {
   "cell_type": "code",
   "execution_count": null,
   "metadata": {
    "collapsed": false
   },
   "outputs": [],
   "source": [
    "# Read the CSV, skipping first row, and indexing the rows with ID. Remove the ROUTE row for now\n",
    "satellites = (pd.read_csv(StringIO(data), skiprows=1, \n",
    "            names=['ID', 'latitude', 'longitude', 'altitude'], index_col='ID'))\n",
    "satellites = satellites[satellites.index != 'ROUTE']\n"
   ]
  },
  {
   "cell_type": "code",
   "execution_count": null,
   "metadata": {
    "collapsed": false
   },
   "outputs": [],
   "source": [
    "satellites.head()"
   ]
  },
  {
   "cell_type": "code",
   "execution_count": null,
   "metadata": {
    "collapsed": false
   },
   "outputs": [],
   "source": [
    "# Read route start and end points\n",
    "route = pd.read_csv(StringIO(data.splitlines()[-1]),\n",
    "            names=['ID', 'lat1', 'lon1', 'lat2', 'lon2'],\n",
    "                        usecols=range(1, 5)).dropna()"
   ]
  },
  {
   "cell_type": "code",
   "execution_count": null,
   "metadata": {
    "collapsed": false
   },
   "outputs": [],
   "source": [
    "route"
   ]
  },
  {
   "cell_type": "code",
   "execution_count": null,
   "metadata": {
    "collapsed": false
   },
   "outputs": [],
   "source": [
    "start_and_end = pd.DataFrame(np.concatenate([route[['lat1', 'lon1']].values,\n",
    "               route[['lat2', 'lon2']].values]), columns=['latitude', 'longitude'], index=['start', 'end'])\n",
    "start_and_end['altitude'] = 0\n",
    "start_and_end"
   ]
  },
  {
   "cell_type": "code",
   "execution_count": null,
   "metadata": {
    "collapsed": false
   },
   "outputs": [],
   "source": [
    "points = pd.concat([satellites, start_and_end])"
   ]
  },
  {
   "cell_type": "code",
   "execution_count": null,
   "metadata": {
    "collapsed": false
   },
   "outputs": [],
   "source": [
    "# Pre-calculate X, Y and Z\n",
    "points['x'], points['y'], points['z'] = xyz(points['latitude'], points['longitude'], points['altitude'])"
   ]
  },
  {
   "cell_type": "code",
   "execution_count": null,
   "metadata": {
    "collapsed": false
   },
   "outputs": [],
   "source": [
    "points"
   ]
  },
  {
   "cell_type": "markdown",
   "metadata": {},
   "source": [
    "# Shortest path"
   ]
  },
  {
   "cell_type": "code",
   "execution_count": null,
   "metadata": {
    "collapsed": false,
    "scrolled": true
   },
   "outputs": [],
   "source": [
    "# Build a nondirected graph. Each point (satellite, route start/end points) \n",
    "# will be a node in the graph.\n",
    "# Nodes that have line-of-sight connections are connected using undirected edges.\n",
    "\n",
    "# No edge weights are specified in this case (i.e. they are considered the same), \n",
    "# but euclidean distance could be used also by modifying the \n",
    "# add_edge call.\n",
    "\n",
    "g = Graph()\n",
    "for pt1_index, pt2_index in combinations(range(len(points)), 2):\n",
    "    pt1_name, pt2_name = points.index[pt1_index], points.index[pt2_index]\n",
    "    pt1, pt2 = points.loc[pt1_name], points.loc[pt2_name]\n",
    "    \n",
    "    g.add_node(pt1_name, points.loc[pt1_name].to_dict())    \n",
    "    g.add_node(pt2_name, points.loc[pt2_name].to_dict())\n",
    "    if line_of_sight_points_xyz(pt1, pt2):\n",
    "        _, line_dist, _ = line(pt1, pt2)\n",
    "        g.add_edge(pt1_name, pt2_name)\n"
   ]
  },
  {
   "cell_type": "code",
   "execution_count": null,
   "metadata": {
    "collapsed": false
   },
   "outputs": [],
   "source": [
    "# Find the least-links path using Dijikstra\n",
    "# method says astar but since we do not have heuristic \n",
    "# defined, it is dijikstra in practice\n",
    "least_links_path = astar_path(g, 'start', 'end')\n",
    "least_links_path"
   ]
  },
  {
   "cell_type": "code",
   "execution_count": null,
   "metadata": {
    "collapsed": false
   },
   "outputs": [],
   "source": [
    "# Plot the route. For validation purposes we check line-of-sight again\n",
    "def _plot_route(route):\n",
    "    fig, ax = create_sphere_fig()\n",
    "    XYZ = list('xyz')\n",
    "\n",
    "    for node_name1, node_name2 in zip(route[:-1], route[1:]):\n",
    "\n",
    "        node1 = points.loc[node_name1]\n",
    "        node2 = points.loc[node_name2]\n",
    "        print(node_name1, '->', node_name2)\n",
    "\n",
    "        ax.text(*node1[XYZ], s=node_name1, fontsize=10)\n",
    "        ax.text(*node2[XYZ], s=node_name2, fontsize=10)\n",
    "\n",
    "        plot_3d_point(*node1[XYZ], color='g', s=50 if node_name1 == route[0] else 25)\n",
    "        plot_3d_point(*node2[XYZ], color='g', s=50 if node_name2 == route[-1] else 25)\n",
    "\n",
    "        color = 'g' if line_of_sight_points_xyz(node1, node2) else 'r'\n",
    "        xyz_pairs = list(zip(node1[XYZ], node2[XYZ]))\n",
    "\n",
    "        a = Arrow3D(*xyz_pairs, mutation_scale=10, lw=1, arrowstyle=\"-|>\", color=color)\n",
    "        ax.add_artist(a)\n",
    "  \n",
    "\n"
   ]
  },
  {
   "cell_type": "code",
   "execution_count": null,
   "metadata": {
    "collapsed": true
   },
   "outputs": [],
   "source": [
    "_plot_route(least_links_path)"
   ]
  }
 ],
 "metadata": {
  "kernelspec": {
   "display_name": "Python 2",
   "language": "python",
   "name": "python2"
  },
  "language_info": {
   "codemirror_mode": {
    "name": "ipython",
    "version": 2
   },
   "file_extension": ".py",
   "mimetype": "text/x-python",
   "name": "python",
   "nbconvert_exporter": "python",
   "pygments_lexer": "ipython2",
   "version": "2.7.9"
  }
 },
 "nbformat": 4,
 "nbformat_minor": 0
}
